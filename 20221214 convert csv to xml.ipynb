{
 "cells": [
  {
   "cell_type": "code",
   "execution_count": 3,
   "id": "9e4f823a",
   "metadata": {},
   "outputs": [],
   "source": [
    "import csv\n",
    "import xml.etree.ElementTree as ET\n",
    "import pandas as pd\n",
    "import numpy as np\n",
    "import math"
   ]
  },
  {
   "cell_type": "code",
   "execution_count": 4,
   "id": "b97ecaff",
   "metadata": {},
   "outputs": [],
   "source": [
    "# pd.read_csv('test csv.csv')"
   ]
  },
  {
   "cell_type": "code",
   "execution_count": 5,
   "id": "2bc8bebc",
   "metadata": {},
   "outputs": [
    {
     "name": "stdout",
     "output_type": "stream",
     "text": [
      "   name   age country\n",
      "0  John  50.0     USA\n",
      "1  Paul   NaN      UK\n"
     ]
    }
   ],
   "source": [
    "# create a dictionary of data\n",
    "data = {'name': ['John', 'Paul'],\n",
    "        'age': [50, np.nan],\n",
    "        'country': ['USA', 'UK']}\n",
    "\n",
    "df = pd.DataFrame(data)\n",
    "print(df)\n",
    "df.to_csv('created test csv.csv', sep = ',', index=False)"
   ]
  },
  {
   "cell_type": "code",
   "execution_count": 6,
   "id": "8b2b2cab",
   "metadata": {},
   "outputs": [
    {
     "name": "stdout",
     "output_type": "stream",
     "text": [
      "<?xml version=\"1.0\" encoding=\"UTF-8\" standalone=\"no\" ?>\n",
      "<root>\n",
      "<quote>\n",
      "</quote>\n",
      "<quote>\n",
      "</quote>\n",
      "</root>\n"
     ]
    }
   ],
   "source": [
    "# test\n",
    "def convert_row(headers, row):\n",
    "#     s = f'<row id=\"{row[0]}\">\\n'\n",
    "    s = '<quote>\\n' \n",
    "    for header, item in zip(headers, row):\n",
    "        f'    <{header} value = ' + f'\"{item}\"' + f'/>\\n'\n",
    "    return s + '</quote>'\n",
    "with open('test csv.csv', 'r') as f:\n",
    "    r = csv.reader(f)\n",
    "    headers = next(r)\n",
    "    xml = '<?xml version=\"1.0\" encoding=\"UTF-8\" standalone=\"no\" ?>\\n<root>\\n'\n",
    "    for row in r:\n",
    "        xml += convert_row(headers, row) + '\\n'\n",
    "    xml += '</root>'\n",
    "    print(xml)"
   ]
  },
  {
   "cell_type": "code",
   "execution_count": 7,
   "id": "2d57be06",
   "metadata": {},
   "outputs": [
    {
     "ename": "TypeError",
     "evalue": "'DataFrame' object is not an iterator",
     "output_type": "error",
     "traceback": [
      "\u001b[1;31m---------------------------------------------------------------------------\u001b[0m",
      "\u001b[1;31mTypeError\u001b[0m                                 Traceback (most recent call last)",
      "\u001b[1;32m~\\AppData\\Local\\Temp\\ipykernel_3500\\1062247718.py\u001b[0m in \u001b[0;36m<module>\u001b[1;34m\u001b[0m\n\u001b[1;32m----> 1\u001b[1;33m \u001b[0mheaders\u001b[0m \u001b[1;33m=\u001b[0m \u001b[0mnext\u001b[0m\u001b[1;33m(\u001b[0m\u001b[0mdf\u001b[0m\u001b[1;33m)\u001b[0m\u001b[1;33m\u001b[0m\u001b[1;33m\u001b[0m\u001b[0m\n\u001b[0m\u001b[0;32m      2\u001b[0m \u001b[0mprint\u001b[0m\u001b[1;33m(\u001b[0m\u001b[0mheaders\u001b[0m\u001b[1;33m)\u001b[0m\u001b[1;33m\u001b[0m\u001b[1;33m\u001b[0m\u001b[0m\n",
      "\u001b[1;31mTypeError\u001b[0m: 'DataFrame' object is not an iterator"
     ]
    }
   ],
   "source": [
    "    headers = next(df)\n",
    "    print(headers)"
   ]
  },
  {
   "cell_type": "code",
   "execution_count": 8,
   "id": "60cc3ada",
   "metadata": {},
   "outputs": [
    {
     "name": "stdout",
     "output_type": "stream",
     "text": [
      "<_csv.reader object at 0x0000025C881DC520>\n"
     ]
    }
   ],
   "source": [
    "with open('test csv.csv', 'r') as f:\n",
    "    r = csv.reader(f)\n",
    "    print(r)"
   ]
  },
  {
   "cell_type": "code",
   "execution_count": 9,
   "id": "c1fa2054",
   "metadata": {},
   "outputs": [
    {
     "ename": "SyntaxError",
     "evalue": "invalid syntax (3542184025.py, line 6)",
     "output_type": "error",
     "traceback": [
      "\u001b[1;36m  File \u001b[1;32m\"C:\\Users\\biqin\\AppData\\Local\\Temp\\ipykernel_3500\\3542184025.py\"\u001b[1;36m, line \u001b[1;32m6\u001b[0m\n\u001b[1;33m    s += f'    <' + if np.isnan({item}): f'' else: f'{header} value = \"{item}\"/>\\n'\u001b[0m\n\u001b[1;37m                    ^\u001b[0m\n\u001b[1;31mSyntaxError\u001b[0m\u001b[1;31m:\u001b[0m invalid syntax\n"
     ]
    }
   ],
   "source": [
    "# test2\n",
    "def convert_row(headers, row):\n",
    "#     s = f'<row id=\"{row[0]}\">\\n'\n",
    "    s = '<quote>\\n' \n",
    "    for header, item in zip(headers, row):\n",
    "        s += f'    <' + if np.isnan({item}): f'' else: f'{header} value = \"{item}\"/>\\n'\n",
    "    return s + '</quote>'\n",
    "\n",
    "\n",
    "with open(\"created test csv.csv\", 'r') as f:\n",
    "    r = csv.reader(f)\n",
    "    headers = next(r)\n",
    "    xml = '<?xml version=\"1.0\" encoding=\"UTF-8\" standalone=\"no\" ?>\\n<root>\\n'\n",
    "    for row in r:\n",
    "        xml += convert_row(headers, row) + '\\n'\n",
    "    xml += '</root>'\n",
    "    print(xml)"
   ]
  },
  {
   "cell_type": "code",
   "execution_count": 13,
   "id": "7147b897",
   "metadata": {},
   "outputs": [
    {
     "name": "stdout",
     "output_type": "stream",
     "text": [
      "<?xml version=\"1.0\" encoding=\"UTF-8\" standalone=\"no\" ?>\n",
      "<root>\n",
      "<quote>\n",
      "    <name value = \"John\"/>\n",
      "    <age value = \"50.0\"/>\n",
      "    <country value = \"USA\"/>\n",
      "</quote>\n",
      "<quote>\n",
      "    <name value = \"Paul\"/>\n",
      "    <country value = \"UK\"/>\n",
      "</quote>\n",
      "</root>\n"
     ]
    }
   ],
   "source": [
    "# test 3\n",
    "def convert_row(headers, row):\n",
    "    s = '<quote>\\n' \n",
    "    \n",
    "    for header, item in zip(headers, row):\n",
    "        if (item==''):\n",
    "            continue\n",
    "        else:\n",
    "            s += f'    <{header} value = \"{item}\"/>\\n'\n",
    "    return s + '</quote>'\n",
    "\n",
    "\n",
    "with open(\"created test csv.csv\", 'r') as f:\n",
    "    r = csv.reader(f)\n",
    "    headers = next(r)\n",
    "    xml = '<?xml version=\"1.0\" encoding=\"UTF-8\" standalone=\"no\" ?>\\n<root>\\n'\n",
    "    for row in r:\n",
    "        xml += convert_row(headers, row) + '\\n'\n",
    "    xml += '</root>'\n",
    "    print(xml)"
   ]
  },
  {
   "cell_type": "code",
   "execution_count": 12,
   "id": "7f5e70e9",
   "metadata": {},
   "outputs": [
    {
     "name": "stdout",
     "output_type": "stream",
     "text": [
      "<?xml version=\"1.0\" encoding=\"UTF-8\" standalone=\"no\" ?>\n",
      "<root>\n",
      "<quote>\n",
      "    <name value = \"John\"/>\n",
      "    <age value = \"50.0\"/>\n",
      "    <country value = \"USA\"/>\n",
      "</quote>\n",
      "<quote>\n",
      "    <name value = \"Paul\"/>\n",
      "    <country value = \"UK\"/>\n",
      "</quote>\n",
      "</root>\n"
     ]
    }
   ],
   "source": [
    "def convert_row(headers, row):\n",
    "   s = '<quote>\\n'\n",
    "   for header, item in zip(headers, row):\n",
    "      # print(\"item\", item)    ## added this to see what output we get, makes it easier to see what happens and what \"item\" is for example... can remove this line, left it to show you the reasoning / step by step... \n",
    "      if (item == \"\"):         # data you get is seen as 'text' (string) thus we cannot use the isnan functions as they expect numbers; thus we look for an empty string instead ;)\n",
    "         continue              # skip empty string values (the NaN's)\n",
    "      else:\n",
    "         s += f'    <{header} value = \"{item}\"/>\\n'\n",
    "   return s + '</quote>'\n",
    "\n",
    "with open(\"created test csv.csv\", 'r') as f:\n",
    "    r = csv.reader(f)\n",
    "    headers = next(r)\n",
    "    xml = '<?xml version=\"1.0\" encoding=\"UTF-8\" standalone=\"no\" ?>\\n<root>\\n'\n",
    "    for row in r:\n",
    "        xml += convert_row(headers, row) + '\\n'\n",
    "    xml += '</root>'\n",
    "print(xml)"
   ]
  },
  {
   "cell_type": "code",
   "execution_count": 11,
   "id": "5e1baec2",
   "metadata": {},
   "outputs": [
    {
     "name": "stdout",
     "output_type": "stream",
     "text": [
      "<?xml version=\"1.0\" encoding=\"UTF-8\" standalone=\"no\" ?>\n",
      "<root>\n",
      "<quote>\n",
      "    <name value = \"John\"/>\n",
      "    <age value = \"50.0\"/>\n",
      "    <country value = \"USA\"/>\n",
      "</quote>\n",
      "<quote>\n",
      "    <name value = \"Paul\"/>\n",
      "    <age value = \"\"/>\n",
      "    <country value = \"UK\"/>\n",
      "</quote>\n",
      "</root>\n"
     ]
    }
   ],
   "source": [
    "def convert_row(headers, row):\n",
    "#     s = f'<row id=\"{row[0]}\">\\n'\n",
    "    s = '<quote>\\n' \n",
    "    for header, item in zip(headers, row):\n",
    "        s += f'    <{header} value = \"{item}\"/>\\n'\n",
    "    return s + '</quote>'\n",
    "\n",
    "\n",
    "with open(\"created test csv.csv\", 'r') as f:\n",
    "    r = csv.reader(f)\n",
    "    headers = next(r)\n",
    "    xml = '<?xml version=\"1.0\" encoding=\"UTF-8\" standalone=\"no\" ?>\\n<root>\\n'\n",
    "    for row in r:\n",
    "        xml += convert_row(headers, row) + '\\n'\n",
    "    xml += '</root>'\n",
    "    print(xml)"
   ]
  },
  {
   "cell_type": "code",
   "execution_count": 31,
   "id": "e0f7ede4",
   "metadata": {},
   "outputs": [],
   "source": [
    "with open('xml.xml', 'w') as f:\n",
    "    f.write(xml)"
   ]
  }
 ],
 "metadata": {
  "kernelspec": {
   "display_name": "Python 3 (ipykernel)",
   "language": "python",
   "name": "python3"
  },
  "language_info": {
   "codemirror_mode": {
    "name": "ipython",
    "version": 3
   },
   "file_extension": ".py",
   "mimetype": "text/x-python",
   "name": "python",
   "nbconvert_exporter": "python",
   "pygments_lexer": "ipython3",
   "version": "3.9.13"
  }
 },
 "nbformat": 4,
 "nbformat_minor": 5
}
