{
 "cells": [
  {
   "cell_type": "code",
   "execution_count": 3,
   "id": "9e4f823a",
   "metadata": {},
   "outputs": [],
   "source": [
    "import csv\n",
    "import xml.etree.ElementTree as ET\n",
    "import pandas as pd\n",
    "import numpy as np\n",
    "import math"
   ]
  },
  {
   "cell_type": "code",
   "execution_count": 5,
   "id": "2bc8bebc",
   "metadata": {},
   "outputs": [
    {
     "name": "stdout",
     "output_type": "stream",
     "text": [
      "   name   age country\n",
      "0  John  50.0     USA\n",
      "1  Paul   NaN      UK\n"
     ]
    }
   ],
   "source": [
    "# create a dictionary of data\n",
    "data = {'name': ['John', 'Paul'],\n",
    "        'age': [50, np.nan],\n",
    "        'country': ['USA', 'UK']}\n",
    "\n",
    "df = pd.DataFrame(data)\n",
    "print(df)\n",
    "df.to_csv('created test csv.csv', sep = ',', index=False)"
   ]
  },
  {
   "cell_type": "code",
   "execution_count": null,
   "id": "7f5e70e9",
   "metadata": {},
   "outputs": [
    {
     "name": "stdout",
     "output_type": "stream",
     "text": [
      "<?xml version=\"1.0\" encoding=\"UTF-8\" standalone=\"no\" ?>\n",
      "<root>\n",
      "<quote>\n",
      "    <name value = \"John\"/>\n",
      "    <age value = \"50.0\"/>\n",
      "    <country value = \"USA\"/>\n",
      "</quote>\n",
      "<quote>\n",
      "    <name value = \"Paul\"/>\n",
      "    <country value = \"UK\"/>\n",
      "</quote>\n",
      "</root>\n"
     ]
    }
   ],
   "source": [
    "def convert_row(headers, row):\n",
    "   s = '<quote>\\n'\n",
    "   for header, item in zip(headers, row):\n",
    "      # print(\"item\", item)    ## added this to see what output we get, makes it easier to see what happens and what \"item\" is for example... can remove this line, left it to show you the reasoning / step by step... \n",
    "      if (item == \"\"):         # data is seen as 'text' (string). Cannot use the isnan functions as they expect numbers\n",
    "         continue              # skip empty string values (the NaN's)\n",
    "      else:\n",
    "         s += f'    <{header} value = \"{item}\"/>\\n'\n",
    "   return s + '</quote>'\n",
    "\n",
    "with open(\"created test csv.csv\", 'r') as f:\n",
    "    r = csv.reader(f)\n",
    "    headers = next(r)\n",
    "    xml = '<?xml version=\"1.0\" encoding=\"UTF-8\" standalone=\"no\" ?>\\n<root>\\n'\n",
    "    for row in r:\n",
    "        xml += convert_row(headers, row) + '\\n'\n",
    "    xml += '</root>'\n",
    "print(xml)"
   ]
  },
  {
   "cell_type": "code",
   "execution_count": 31,
   "id": "e0f7ede4",
   "metadata": {},
   "outputs": [],
   "source": [
    "with open('xml.xml', 'w') as f:\n",
    "    f.write(xml)"
   ]
  }
 ],
 "metadata": {
  "kernelspec": {
   "display_name": "Python 3 (ipykernel)",
   "language": "python",
   "name": "python3"
  },
  "language_info": {
   "codemirror_mode": {
    "name": "ipython",
    "version": 3
   },
   "file_extension": ".py",
   "mimetype": "text/x-python",
   "name": "python",
   "nbconvert_exporter": "python",
   "pygments_lexer": "ipython3",
   "version": "3.9.13"
  }
 },
 "nbformat": 4,
 "nbformat_minor": 5
}
